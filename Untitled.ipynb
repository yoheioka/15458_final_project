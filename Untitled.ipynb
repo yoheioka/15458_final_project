{
 "cells": [
  {
   "cell_type": "code",
   "execution_count": 1,
   "id": "bb893cc7",
   "metadata": {},
   "outputs": [],
   "source": [
    "import arrow\n",
    "import pandas as pd\n",
    "import sys\n",
    "import os\n",
    "import mplfinance as fplt\n",
    "import random\n",
    "from multiprocessing import Pool\n",
    "from mysql_client import MysqlClient"
   ]
  },
  {
   "cell_type": "code",
   "execution_count": 3,
   "id": "797e8cac",
   "metadata": {},
   "outputs": [],
   "source": [
    "GRANULARITY = 5\n",
    "INSTRUMENT = 'EUR_USD'\n",
    "YEAR = 2015\n",
    "METRIC = 'long10'\n",
    "TRAIN_DIR = 'images3_with_volume/%s_%s_%s/train/%s'\n",
    "TEST_DIR = 'images3_with_volume/%s_%s_%s/test/%s'\n",
    "SAMPLE_RATE = 0.05\n",
    "STYLE = fplt.make_mpf_style(base_mpf_style='charles', gridstyle='')\n",
    "START = arrow.get('%s-01-01 00:00:00' % YEAR)\n",
    "END = START.shift(years=1, days=5)\n",
    "os.environ['TK_SILENCE_DEPRECATION'] = '1'"
   ]
  },
  {
   "cell_type": "code",
   "execution_count": 4,
   "id": "62e008a8",
   "metadata": {},
   "outputs": [],
   "source": [
    "mysql_client = MysqlClient()\n",
    "table = 'candles_%s_%s' % (GRANULARITY, INSTRUMENT)\n",
    "data = mysql_client.get_data(table, start=START, end=END)\n",
    "label_data = mysql_client.get_data(\n",
    "    table + '_movement', start=START, end=END\n",
    ")\n",
    "df = pd.DataFrame(data)\n",
    "df_label = pd.DataFrame(label_data)\n",
    "df = df.merge(df_label, on='time', how='left')"
   ]
  },
  {
   "cell_type": "code",
   "execution_count": 6,
   "id": "e01c7b40",
   "metadata": {},
   "outputs": [
    {
     "data": {
      "text/plain": [
       "0         40.0\n",
       "1          4.0\n",
       "2         51.0\n",
       "3        101.0\n",
       "4         23.0\n",
       "         ...  \n",
       "75036     54.0\n",
       "75037     37.0\n",
       "75038     60.0\n",
       "75039     45.0\n",
       "75040     78.0\n",
       "Name: volume, Length: 75041, dtype: float64"
      ]
     },
     "execution_count": 6,
     "metadata": {},
     "output_type": "execute_result"
    }
   ],
   "source": [
    "df['volume']"
   ]
  },
  {
   "cell_type": "code",
   "execution_count": 7,
   "id": "9cea1af9",
   "metadata": {},
   "outputs": [
    {
     "data": {
      "text/html": [
       "<div>\n",
       "<style scoped>\n",
       "    .dataframe tbody tr th:only-of-type {\n",
       "        vertical-align: middle;\n",
       "    }\n",
       "\n",
       "    .dataframe tbody tr th {\n",
       "        vertical-align: top;\n",
       "    }\n",
       "\n",
       "    .dataframe thead th {\n",
       "        text-align: right;\n",
       "    }\n",
       "</style>\n",
       "<table border=\"1\" class=\"dataframe\">\n",
       "  <thead>\n",
       "    <tr style=\"text-align: right;\">\n",
       "      <th></th>\n",
       "      <th>time</th>\n",
       "      <th>high</th>\n",
       "      <th>close</th>\n",
       "      <th>open</th>\n",
       "      <th>low</th>\n",
       "      <th>ask_high</th>\n",
       "      <th>ask_close</th>\n",
       "      <th>ask_open</th>\n",
       "      <th>ask_low</th>\n",
       "      <th>bid_high</th>\n",
       "      <th>...</th>\n",
       "      <th>short10_count</th>\n",
       "      <th>short11_count</th>\n",
       "      <th>short12_count</th>\n",
       "      <th>short13_count</th>\n",
       "      <th>short14_count</th>\n",
       "      <th>short15_count</th>\n",
       "      <th>short16_count</th>\n",
       "      <th>short17_count</th>\n",
       "      <th>short18_count</th>\n",
       "      <th>short19_count</th>\n",
       "    </tr>\n",
       "  </thead>\n",
       "  <tbody>\n",
       "    <tr>\n",
       "      <th>7</th>\n",
       "      <td>1420151700</td>\n",
       "      <td>1.2103</td>\n",
       "      <td>1.2102</td>\n",
       "      <td>1.2102</td>\n",
       "      <td>1.2102</td>\n",
       "      <td>1.2104</td>\n",
       "      <td>1.2104</td>\n",
       "      <td>1.2104</td>\n",
       "      <td>1.2103</td>\n",
       "      <td>1.2101</td>\n",
       "      <td>...</td>\n",
       "      <td>10</td>\n",
       "      <td>10</td>\n",
       "      <td>10</td>\n",
       "      <td>10</td>\n",
       "      <td>10</td>\n",
       "      <td>10</td>\n",
       "      <td>10</td>\n",
       "      <td>11</td>\n",
       "      <td>11</td>\n",
       "      <td>23</td>\n",
       "    </tr>\n",
       "    <tr>\n",
       "      <th>8</th>\n",
       "      <td>1420152000</td>\n",
       "      <td>1.2104</td>\n",
       "      <td>1.2104</td>\n",
       "      <td>1.2103</td>\n",
       "      <td>1.2102</td>\n",
       "      <td>1.2106</td>\n",
       "      <td>1.2106</td>\n",
       "      <td>1.2104</td>\n",
       "      <td>1.2103</td>\n",
       "      <td>1.2103</td>\n",
       "      <td>...</td>\n",
       "      <td>9</td>\n",
       "      <td>9</td>\n",
       "      <td>9</td>\n",
       "      <td>9</td>\n",
       "      <td>9</td>\n",
       "      <td>9</td>\n",
       "      <td>9</td>\n",
       "      <td>9</td>\n",
       "      <td>10</td>\n",
       "      <td>10</td>\n",
       "    </tr>\n",
       "    <tr>\n",
       "      <th>9</th>\n",
       "      <td>1420152300</td>\n",
       "      <td>1.2104</td>\n",
       "      <td>1.2103</td>\n",
       "      <td>1.2104</td>\n",
       "      <td>1.2102</td>\n",
       "      <td>1.2105</td>\n",
       "      <td>1.2104</td>\n",
       "      <td>1.2105</td>\n",
       "      <td>1.2103</td>\n",
       "      <td>1.2103</td>\n",
       "      <td>...</td>\n",
       "      <td>8</td>\n",
       "      <td>8</td>\n",
       "      <td>8</td>\n",
       "      <td>8</td>\n",
       "      <td>8</td>\n",
       "      <td>8</td>\n",
       "      <td>9</td>\n",
       "      <td>9</td>\n",
       "      <td>21</td>\n",
       "      <td>21</td>\n",
       "    </tr>\n",
       "  </tbody>\n",
       "</table>\n",
       "<p>3 rows × 90 columns</p>\n",
       "</div>"
      ],
      "text/plain": [
       "         time    high   close    open     low  ask_high  ask_close  ask_open  \\\n",
       "7  1420151700  1.2103  1.2102  1.2102  1.2102    1.2104     1.2104    1.2104   \n",
       "8  1420152000  1.2104  1.2104  1.2103  1.2102    1.2106     1.2106    1.2104   \n",
       "9  1420152300  1.2104  1.2103  1.2104  1.2102    1.2105     1.2104    1.2105   \n",
       "\n",
       "   ask_low  bid_high  ...  short10_count  short11_count  short12_count  \\\n",
       "7   1.2103    1.2101  ...             10             10             10   \n",
       "8   1.2103    1.2103  ...              9              9              9   \n",
       "9   1.2103    1.2103  ...              8              8              8   \n",
       "\n",
       "   short13_count  short14_count  short15_count  short16_count  short17_count  \\\n",
       "7             10             10             10             10             11   \n",
       "8              9              9              9              9              9   \n",
       "9              8              8              8              9              9   \n",
       "\n",
       "   short18_count  short19_count  \n",
       "7             11             23  \n",
       "8             10             10  \n",
       "9             21             21  \n",
       "\n",
       "[3 rows x 90 columns]"
      ]
     },
     "execution_count": 7,
     "metadata": {},
     "output_type": "execute_result"
    }
   ],
   "source": [
    "x = df[10 - 3:10]\n",
    "x"
   ]
  },
  {
   "cell_type": "code",
   "execution_count": 17,
   "id": "493dc9da",
   "metadata": {},
   "outputs": [
    {
     "data": {
      "image/png": "[encoded data removed]",
      "text/plain": [
       "<Figure size 575x575 with 4 Axes>"
      ]
     },
     "metadata": {},
     "output_type": "display_data"
    }
   ],
   "source": [
    "df['date'] = pd.to_datetime(df['time'], unit='s')\n",
    "df.index = pd.DatetimeIndex(df['date'])\n",
    "x = df[10 - 3:10]\n",
    "STYLE = fplt.make_mpf_style(base_mpf_style='charles', gridstyle='')\n",
    "fplt.plot(\n",
    "    x,\n",
    "    type='candle',\n",
    "    style=STYLE,\n",
    "    axisoff=True,\n",
    "    figratio=(10,10),\n",
    "    figscale=1,\n",
    "    volume=True\n",
    ")"
   ]
  }
 ],
 "metadata": {
  "kernelspec": {
   "display_name": "Python 3 (ipykernel)",
   "language": "python",
   "name": "python3"
  },
  "language_info": {
   "codemirror_mode": {
    "name": "ipython",
    "version": 3
   },
   "file_extension": ".py",
   "mimetype": "text/x-python",
   "name": "python",
   "nbconvert_exporter": "python",
   "pygments_lexer": "ipython3",
   "version": "3.9.9"
  }
 },
 "nbformat": 4,
 "nbformat_minor": 5
}
