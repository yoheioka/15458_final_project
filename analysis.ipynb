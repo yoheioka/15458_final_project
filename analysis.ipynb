{
 "cells": [
  {
   "cell_type": "code",
   "execution_count": 1,
   "id": "6adde03b",
   "metadata": {},
   "outputs": [],
   "source": [
    "import arrow\n",
    "import pandas as pd\n",
    "from mysql_client import MysqlClient"
   ]
  },
  {
   "cell_type": "code",
   "execution_count": null,
   "id": "b224cf50",
   "metadata": {},
   "outputs": [],
   "source": []
  },
  {
   "cell_type": "code",
   "execution_count": 2,
   "id": "3cb76c18",
   "metadata": {},
   "outputs": [],
   "source": [
    "mysql_client = MysqlClient()"
   ]
  },
  {
   "cell_type": "code",
   "execution_count": 3,
   "id": "f0fe411e",
   "metadata": {},
   "outputs": [],
   "source": [
    "START = arrow.get('2015-01-05 00:00:00')\n",
    "END = arrow.get('2015-01-05 00:20:00')\n",
    "data = mysql_client.get_data('candles_1_EUR_USD', start=START, end=END)\n",
    "label_data = mysql_client.get_data('candles_1_EUR_USD_movement', start=START, end=END)"
   ]
  },
  {
   "cell_type": "code",
   "execution_count": 16,
   "id": "96f08c15",
   "metadata": {},
   "outputs": [],
   "source": [
    "df = pd.DataFrame(data)\n",
    "df_label = pd.DataFrame(label_data)\n",
    "df = df.merge(df_label, on='time', how='left')"
   ]
  },
  {
   "cell_type": "code",
   "execution_count": 17,
   "id": "a6b98212",
   "metadata": {},
   "outputs": [],
   "source": [
    "import mplfinance as fplt\n",
    "METRIC = 'short5'\n",
    "df['date'] = pd.to_datetime(df['time'], unit='s')\n",
    "df.index = pd.DatetimeIndex(df['date'])\n",
    "style = fplt.make_mpf_style(base_mpf_style='charles', gridstyle='')"
   ]
  },
  {
   "cell_type": "code",
   "execution_count": 18,
   "id": "64e3a01e",
   "metadata": {},
   "outputs": [
    {
     "name": "stdout",
     "output_type": "stream",
     "text": [
      "1420416540 0\n",
      "1420416600 0\n",
      "1420416660 0\n",
      "1420416720 0\n",
      "1420416780 0\n",
      "1420416840 0\n",
      "1420416900 0\n",
      "1420416960 0\n",
      "1420417020 0\n",
      "1420417080 0\n",
      "1420417140 1\n",
      "1420417200 1\n"
     ]
    }
   ],
   "source": [
    "for i in range(9, len(df)):\n",
    "    print(df['time'][i], df[METRIC][i])\n",
    "    fplt.plot(\n",
    "        df[i - 9:i],\n",
    "        type='candle',\n",
    "        style=style,\n",
    "        axisoff=True,\n",
    "        figratio=(10,10),\n",
    "        figscale=1,\n",
    "        savefig=dict(\n",
    "            fname='testsave_%s.jpg' % i,\n",
    "            dpi=100,\n",
    "            bbox_inches='tight'\n",
    "        )\n",
    "    )"
   ]
  }
 ],
 "metadata": {
  "kernelspec": {
   "display_name": "Python 3 (ipykernel)",
   "language": "python",
   "name": "python3"
  },
  "language_info": {
   "codemirror_mode": {
    "name": "ipython",
    "version": 3
   },
   "file_extension": ".py",
   "mimetype": "text/x-python",
   "name": "python",
   "nbconvert_exporter": "python",
   "pygments_lexer": "ipython3",
   "version": "3.7.2"
  }
 },
 "nbformat": 4,
 "nbformat_minor": 5
}
